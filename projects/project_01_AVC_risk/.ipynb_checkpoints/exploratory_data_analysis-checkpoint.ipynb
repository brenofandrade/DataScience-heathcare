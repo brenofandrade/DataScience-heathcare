{
 "cells": [
  {
   "cell_type": "markdown",
   "id": "20661a95",
   "metadata": {},
   "source": [
    "## Data Science\n",
    "\n",
    "\n",
    "\n",
    "Projeto 01 - Risco de sofrer um AVC baseado em dados não clínicos.\n",
    "\n",
    "Esse projeto tem como objetivo exemplificar as etapas iniciais do processo de _Data Science_, que antecedem à etapa de modelagem.\n",
    "\n",
    "Inicialmente, busca-se entender a organização dos dados, quais são as variáveis preditoras, se existem valores faltantes (missing), valores extremos (outliers), variáveis que não são adequadas para o modelo, tais como ID de pacientes. \n",
    "\n",
    "Então é feita uma limpeza nos dados e algumas transformações antes de passar para a fase de modelagem.\n"
   ]
  },
  {
   "cell_type": "code",
   "execution_count": 1,
   "id": "cb9ff33e",
   "metadata": {},
   "outputs": [
    {
     "data": {
      "text/plain": [
       "<Figure size 864x648 with 0 Axes>"
      ]
     },
     "metadata": {},
     "output_type": "display_data"
    }
   ],
   "source": [
    "# Packages\n",
    "\n",
    "import pandas as pd\n",
    "import numpy as np\n",
    "import seaborn as sns\n",
    "import matplotlib.pyplot as plt\n",
    "\n",
    "%matplotlib inline\n",
    "\n",
    "plt.figure(figsize=(12,9))\n",
    "plt.style.use('classic')\n",
    "\n",
    "\n",
    "import warnings\n",
    "\n",
    "warnings.filterwarnings('ignore')"
   ]
  },
  {
   "cell_type": "code",
   "execution_count": 2,
   "id": "63995c3a",
   "metadata": {},
   "outputs": [],
   "source": [
    "# Carrega o conjunto de dados\n",
    "\n",
    "dataset = pd.read_csv('data/dataset-avc.csv')"
   ]
  },
  {
   "cell_type": "code",
   "execution_count": 3,
   "id": "94acb2c8",
   "metadata": {},
   "outputs": [
    {
     "data": {
      "text/html": [
       "<div>\n",
       "<style scoped>\n",
       "    .dataframe tbody tr th:only-of-type {\n",
       "        vertical-align: middle;\n",
       "    }\n",
       "\n",
       "    .dataframe tbody tr th {\n",
       "        vertical-align: top;\n",
       "    }\n",
       "\n",
       "    .dataframe thead th {\n",
       "        text-align: right;\n",
       "    }\n",
       "</style>\n",
       "<table border=\"1\" class=\"dataframe\">\n",
       "  <thead>\n",
       "    <tr style=\"text-align: right;\">\n",
       "      <th></th>\n",
       "      <th>id</th>\n",
       "      <th>sexo</th>\n",
       "      <th>idade</th>\n",
       "      <th>hipertensao</th>\n",
       "      <th>doenca_coracao</th>\n",
       "      <th>casado</th>\n",
       "      <th>tipo_trabalho</th>\n",
       "      <th>tipo_residencia</th>\n",
       "      <th>media_nivel_glicose</th>\n",
       "      <th>imc</th>\n",
       "      <th>status_tabagismo</th>\n",
       "      <th>avc</th>\n",
       "    </tr>\n",
       "  </thead>\n",
       "  <tbody>\n",
       "    <tr>\n",
       "      <th>0</th>\n",
       "      <td>30669</td>\n",
       "      <td>Masculino</td>\n",
       "      <td>3.0</td>\n",
       "      <td>0</td>\n",
       "      <td>0</td>\n",
       "      <td>No</td>\n",
       "      <td>crianca</td>\n",
       "      <td>Rural</td>\n",
       "      <td>95.12</td>\n",
       "      <td>18.0</td>\n",
       "      <td>NaN</td>\n",
       "      <td>0</td>\n",
       "    </tr>\n",
       "    <tr>\n",
       "      <th>1</th>\n",
       "      <td>30468</td>\n",
       "      <td>Masculino</td>\n",
       "      <td>58.0</td>\n",
       "      <td>1</td>\n",
       "      <td>0</td>\n",
       "      <td>Yes</td>\n",
       "      <td>Privado</td>\n",
       "      <td>Urbana</td>\n",
       "      <td>87.96</td>\n",
       "      <td>39.2</td>\n",
       "      <td>nunca fumou</td>\n",
       "      <td>0</td>\n",
       "    </tr>\n",
       "    <tr>\n",
       "      <th>2</th>\n",
       "      <td>16523</td>\n",
       "      <td>Feminino</td>\n",
       "      <td>8.0</td>\n",
       "      <td>0</td>\n",
       "      <td>0</td>\n",
       "      <td>No</td>\n",
       "      <td>Privado</td>\n",
       "      <td>Urbana</td>\n",
       "      <td>110.89</td>\n",
       "      <td>17.6</td>\n",
       "      <td>NaN</td>\n",
       "      <td>0</td>\n",
       "    </tr>\n",
       "  </tbody>\n",
       "</table>\n",
       "</div>"
      ],
      "text/plain": [
       "      id       sexo  idade  hipertensao  doenca_coracao casado tipo_trabalho  \\\n",
       "0  30669  Masculino    3.0            0               0     No       crianca   \n",
       "1  30468  Masculino   58.0            1               0    Yes       Privado   \n",
       "2  16523   Feminino    8.0            0               0     No       Privado   \n",
       "\n",
       "  tipo_residencia  media_nivel_glicose   imc status_tabagismo  avc  \n",
       "0           Rural                95.12  18.0              NaN    0  \n",
       "1          Urbana                87.96  39.2      nunca fumou    0  \n",
       "2          Urbana               110.89  17.6              NaN    0  "
      ]
     },
     "execution_count": 3,
     "metadata": {},
     "output_type": "execute_result"
    }
   ],
   "source": [
    "dataset.head(3)"
   ]
  },
  {
   "cell_type": "code",
   "execution_count": 4,
   "id": "cb137720",
   "metadata": {},
   "outputs": [],
   "source": [
    "# Remove colunas que não podem explicar o resultado\n",
    "\n",
    "del dataset['id']\n",
    "del dataset['casado']"
   ]
  },
  {
   "cell_type": "code",
   "execution_count": 5,
   "id": "7893d575",
   "metadata": {},
   "outputs": [
    {
     "data": {
      "text/html": [
       "<div>\n",
       "<style scoped>\n",
       "    .dataframe tbody tr th:only-of-type {\n",
       "        vertical-align: middle;\n",
       "    }\n",
       "\n",
       "    .dataframe tbody tr th {\n",
       "        vertical-align: top;\n",
       "    }\n",
       "\n",
       "    .dataframe thead th {\n",
       "        text-align: right;\n",
       "    }\n",
       "</style>\n",
       "<table border=\"1\" class=\"dataframe\">\n",
       "  <thead>\n",
       "    <tr style=\"text-align: right;\">\n",
       "      <th></th>\n",
       "      <th>sexo</th>\n",
       "      <th>idade</th>\n",
       "      <th>hipertensao</th>\n",
       "      <th>doenca_coracao</th>\n",
       "      <th>tipo_trabalho</th>\n",
       "      <th>tipo_residencia</th>\n",
       "      <th>media_nivel_glicose</th>\n",
       "      <th>imc</th>\n",
       "      <th>status_tabagismo</th>\n",
       "      <th>avc</th>\n",
       "    </tr>\n",
       "  </thead>\n",
       "  <tbody>\n",
       "    <tr>\n",
       "      <th>0</th>\n",
       "      <td>Masculino</td>\n",
       "      <td>3.0</td>\n",
       "      <td>0</td>\n",
       "      <td>0</td>\n",
       "      <td>crianca</td>\n",
       "      <td>Rural</td>\n",
       "      <td>95.12</td>\n",
       "      <td>18.0</td>\n",
       "      <td>NaN</td>\n",
       "      <td>0</td>\n",
       "    </tr>\n",
       "    <tr>\n",
       "      <th>1</th>\n",
       "      <td>Masculino</td>\n",
       "      <td>58.0</td>\n",
       "      <td>1</td>\n",
       "      <td>0</td>\n",
       "      <td>Privado</td>\n",
       "      <td>Urbana</td>\n",
       "      <td>87.96</td>\n",
       "      <td>39.2</td>\n",
       "      <td>nunca fumou</td>\n",
       "      <td>0</td>\n",
       "    </tr>\n",
       "    <tr>\n",
       "      <th>2</th>\n",
       "      <td>Feminino</td>\n",
       "      <td>8.0</td>\n",
       "      <td>0</td>\n",
       "      <td>0</td>\n",
       "      <td>Privado</td>\n",
       "      <td>Urbana</td>\n",
       "      <td>110.89</td>\n",
       "      <td>17.6</td>\n",
       "      <td>NaN</td>\n",
       "      <td>0</td>\n",
       "    </tr>\n",
       "  </tbody>\n",
       "</table>\n",
       "</div>"
      ],
      "text/plain": [
       "        sexo  idade  hipertensao  doenca_coracao tipo_trabalho  \\\n",
       "0  Masculino    3.0            0               0       crianca   \n",
       "1  Masculino   58.0            1               0       Privado   \n",
       "2   Feminino    8.0            0               0       Privado   \n",
       "\n",
       "  tipo_residencia  media_nivel_glicose   imc status_tabagismo  avc  \n",
       "0           Rural                95.12  18.0              NaN    0  \n",
       "1          Urbana                87.96  39.2      nunca fumou    0  \n",
       "2          Urbana               110.89  17.6              NaN    0  "
      ]
     },
     "execution_count": 5,
     "metadata": {},
     "output_type": "execute_result"
    }
   ],
   "source": [
    "dataset.head(3)"
   ]
  },
  {
   "cell_type": "code",
   "execution_count": 6,
   "id": "40999d3b",
   "metadata": {},
   "outputs": [
    {
     "name": "stdout",
     "output_type": "stream",
     "text": [
      "<class 'pandas.core.frame.DataFrame'>\n",
      "RangeIndex: 43400 entries, 0 to 43399\n",
      "Data columns (total 10 columns):\n",
      " #   Column               Non-Null Count  Dtype  \n",
      "---  ------               --------------  -----  \n",
      " 0   sexo                 43400 non-null  object \n",
      " 1   idade                43400 non-null  float64\n",
      " 2   hipertensao          43400 non-null  int64  \n",
      " 3   doenca_coracao       43400 non-null  int64  \n",
      " 4   tipo_trabalho        43400 non-null  object \n",
      " 5   tipo_residencia      43400 non-null  object \n",
      " 6   media_nivel_glicose  43400 non-null  float64\n",
      " 7   imc                  41938 non-null  float64\n",
      " 8   status_tabagismo     30108 non-null  object \n",
      " 9   avc                  43400 non-null  int64  \n",
      "dtypes: float64(3), int64(3), object(4)\n",
      "memory usage: 3.3+ MB\n"
     ]
    }
   ],
   "source": [
    "dataset.info()"
   ]
  },
  {
   "cell_type": "code",
   "execution_count": 7,
   "id": "5374cd0f",
   "metadata": {},
   "outputs": [],
   "source": [
    "# O pandas atribui tipos às variáveis conforme o que lhe parece mais certo. Cabe-nos corrigir possíveis equívocos.\n",
    "\n",
    "dataset['sexo'] = dataset['sexo'].astype('category')\n",
    "dataset['hipertensao'] = dataset['hipertensao'].astype('category')\n",
    "dataset['doenca_coracao']=dataset['doenca_coracao'].astype('category')\n",
    "dataset['tipo_trabalho'] = dataset['tipo_trabalho'].astype('category')\n",
    "dataset['tipo_residencia'] = dataset['tipo_residencia'].astype('category')\n",
    "dataset['status_tabagismo'] = dataset['status_tabagismo'].astype('category')"
   ]
  },
  {
   "cell_type": "code",
   "execution_count": 8,
   "id": "18b8feb8",
   "metadata": {},
   "outputs": [
    {
     "data": {
      "text/plain": [
       "sexo                   category\n",
       "idade                   float64\n",
       "hipertensao            category\n",
       "doenca_coracao         category\n",
       "tipo_trabalho          category\n",
       "tipo_residencia        category\n",
       "media_nivel_glicose     float64\n",
       "imc                     float64\n",
       "status_tabagismo       category\n",
       "avc                       int64\n",
       "dtype: object"
      ]
     },
     "execution_count": 8,
     "metadata": {},
     "output_type": "execute_result"
    }
   ],
   "source": [
    "dataset.dtypes"
   ]
  },
  {
   "cell_type": "markdown",
   "id": "3c08f52b",
   "metadata": {},
   "source": [
    "## Tratando valores missing"
   ]
  },
  {
   "cell_type": "code",
   "execution_count": 9,
   "id": "9d776993",
   "metadata": {},
   "outputs": [
    {
     "data": {
      "text/plain": [
       "sexo                   43400\n",
       "idade                  43400\n",
       "hipertensao            43400\n",
       "doenca_coracao         43400\n",
       "tipo_trabalho          43400\n",
       "tipo_residencia        43400\n",
       "media_nivel_glicose    43400\n",
       "imc                    41938\n",
       "status_tabagismo       30108\n",
       "avc                    43400\n",
       "dtype: int64"
      ]
     },
     "execution_count": 9,
     "metadata": {},
     "output_type": "execute_result"
    }
   ],
   "source": [
    "dataset.count()"
   ]
  },
  {
   "cell_type": "code",
   "execution_count": 10,
   "id": "e115f6ec",
   "metadata": {},
   "outputs": [
    {
     "data": {
      "text/plain": [
       "sexo                       0\n",
       "idade                      0\n",
       "hipertensao                0\n",
       "doenca_coracao             0\n",
       "tipo_trabalho              0\n",
       "tipo_residencia            0\n",
       "media_nivel_glicose        0\n",
       "imc                     1462\n",
       "status_tabagismo       13292\n",
       "avc                        0\n",
       "dtype: int64"
      ]
     },
     "execution_count": 10,
     "metadata": {},
     "output_type": "execute_result"
    }
   ],
   "source": [
    "dataset.isnull().sum()"
   ]
  },
  {
   "cell_type": "code",
   "execution_count": 11,
   "id": "49622466",
   "metadata": {},
   "outputs": [
    {
     "name": "stdout",
     "output_type": "stream",
     "text": [
      "Porcentagem de valores missing por coluna:\n",
      "\n",
      "sexo 0.0 %\n",
      "idade 0.0 %\n",
      "hipertensao 0.0 %\n",
      "doenca_coracao 0.0 %\n",
      "tipo_trabalho 0.0 %\n",
      "tipo_residencia 0.0 %\n",
      "media_nivel_glicose 0.0 %\n",
      "imc 3.37 %\n",
      "status_tabagismo 30.63 %\n",
      "avc 0.0 %\n"
     ]
    }
   ],
   "source": [
    "# Calcula a porcentagem de valores missing por coluna\n",
    "print('Porcentagem de valores missing por coluna:\\n')\n",
    "\n",
    "for feature in dataset.columns:\n",
    "    print(feature,round(dataset[feature].isnull().sum()/dataset.shape[0]*100, 2), '%')"
   ]
  },
  {
   "cell_type": "markdown",
   "id": "e9283cb7",
   "metadata": {},
   "source": [
    "### Elimina os valores missing da coluna imc "
   ]
  },
  {
   "cell_type": "code",
   "execution_count": 12,
   "id": "f316d4a4",
   "metadata": {},
   "outputs": [
    {
     "data": {
      "image/png": "[encoded data removed]",
      "text/plain": [
       "<Figure size 640x480 with 1 Axes>"
      ]
     },
     "metadata": {},
     "output_type": "display_data"
    }
   ],
   "source": [
    "plt.hist(dataset['imc']);"
   ]
  },
  {
   "cell_type": "code",
   "execution_count": 13,
   "id": "b0c86bf9",
   "metadata": {},
   "outputs": [],
   "source": [
    "dataset['imc'] = np.where(dataset['imc'].isnull(), dataset['imc'].mean(), dataset['imc'])"
   ]
  },
  {
   "cell_type": "code",
   "execution_count": 14,
   "id": "40e7fbb1",
   "metadata": {},
   "outputs": [
    {
     "data": {
      "image/png": "[encoded data removed]",
      "text/plain": [
       "<Figure size 640x480 with 1 Axes>"
      ]
     },
     "metadata": {},
     "output_type": "display_data"
    }
   ],
   "source": [
    "plt.hist(dataset['imc']);"
   ]
  },
  {
   "cell_type": "markdown",
   "id": "c5027810",
   "metadata": {},
   "source": [
    "### Elimina os valores missing da coluna tabagismo "
   ]
  },
  {
   "cell_type": "code",
   "execution_count": 15,
   "id": "a4aa0dbd",
   "metadata": {},
   "outputs": [
    {
     "data": {
      "image/png": "[encoded data removed]",
      "text/plain": [
       "<Figure size 640x480 with 1 Axes>"
      ]
     },
     "metadata": {},
     "output_type": "display_data"
    }
   ],
   "source": [
    "dataset['status_tabagismo'].value_counts().plot(kind='bar');"
   ]
  },
  {
   "cell_type": "code",
   "execution_count": 16,
   "id": "438fcc08",
   "metadata": {},
   "outputs": [],
   "source": [
    "dataset['status_tabagismo']=np.where(dataset['status_tabagismo'].isnull(),'desconhecido',dataset['status_tabagismo'])"
   ]
  },
  {
   "cell_type": "code",
   "execution_count": 17,
   "id": "3aa0bf7a",
   "metadata": {},
   "outputs": [
    {
     "data": {
      "image/png": "[encoded data removed]",
      "text/plain": [
       "<Figure size 640x480 with 1 Axes>"
      ]
     },
     "metadata": {},
     "output_type": "display_data"
    }
   ],
   "source": [
    "dataset['status_tabagismo'].value_counts().plot(kind='bar');"
   ]
  },
  {
   "cell_type": "code",
   "execution_count": 18,
   "id": "99e8029b",
   "metadata": {},
   "outputs": [
    {
     "data": {
      "text/plain": [
       "sexo                   0\n",
       "idade                  0\n",
       "hipertensao            0\n",
       "doenca_coracao         0\n",
       "tipo_trabalho          0\n",
       "tipo_residencia        0\n",
       "media_nivel_glicose    0\n",
       "imc                    0\n",
       "status_tabagismo       0\n",
       "avc                    0\n",
       "dtype: int64"
      ]
     },
     "execution_count": 18,
     "metadata": {},
     "output_type": "execute_result"
    }
   ],
   "source": [
    "dataset.isnull().sum()"
   ]
  },
  {
   "cell_type": "markdown",
   "id": "6ca78609",
   "metadata": {},
   "source": [
    "## "
   ]
  },
  {
   "cell_type": "code",
   "execution_count": 19,
   "id": "86efb45a",
   "metadata": {},
   "outputs": [
    {
     "data": {
      "text/plain": [
       "<seaborn.axisgrid.PairGrid at 0x7fc9259f0b80>"
      ]
     },
     "execution_count": 19,
     "metadata": {},
     "output_type": "execute_result"
    },
    {
     "data": {
      "image/png": "[encoded data removed]",
      "text/plain": [
       "<Figure size 937.1x800 with 14 Axes>"
      ]
     },
     "metadata": {},
     "output_type": "display_data"
    }
   ],
   "source": [
    "sns.pairplot(dataset,kind='hist', corner=True, hue='sexo')"
   ]
  },
  {
   "cell_type": "code",
   "execution_count": 20,
   "id": "4d0b46e8",
   "metadata": {},
   "outputs": [
    {
     "data": {
      "image/png": "[encoded data removed]",
      "text/plain": [
       "<Figure size 640x480 with 1 Axes>"
      ]
     },
     "metadata": {},
     "output_type": "display_data"
    }
   ],
   "source": [
    "sns.boxplot(dataset['imc']);"
   ]
  },
  {
   "cell_type": "code",
   "execution_count": 21,
   "id": "e130de7d",
   "metadata": {},
   "outputs": [],
   "source": [
    "dataset = dataset.drop(dataset[dataset['imc'] > 45].index)"
   ]
  },
  {
   "cell_type": "code",
   "execution_count": 22,
   "id": "ab7456c9",
   "metadata": {},
   "outputs": [
    {
     "data": {
      "image/png": "[encoded data removed]",
      "text/plain": [
       "<Figure size 640x480 with 1 Axes>"
      ]
     },
     "metadata": {},
     "output_type": "display_data"
    }
   ],
   "source": [
    "sns.boxplot(dataset['imc']);"
   ]
  },
  {
   "cell_type": "code",
   "execution_count": 23,
   "id": "e625bd72",
   "metadata": {},
   "outputs": [
    {
     "data": {
      "image/png": "[encoded data removed]",
      "text/plain": [
       "<Figure size 640x480 with 1 Axes>"
      ]
     },
     "metadata": {},
     "output_type": "display_data"
    }
   ],
   "source": [
    "sns.boxplot(dataset['media_nivel_glicose']);"
   ]
  },
  {
   "cell_type": "code",
   "execution_count": 24,
   "id": "e0431388",
   "metadata": {},
   "outputs": [
    {
     "data": {
      "text/html": [
       "<div>\n",
       "<style scoped>\n",
       "    .dataframe tbody tr th:only-of-type {\n",
       "        vertical-align: middle;\n",
       "    }\n",
       "\n",
       "    .dataframe tbody tr th {\n",
       "        vertical-align: top;\n",
       "    }\n",
       "\n",
       "    .dataframe thead th {\n",
       "        text-align: right;\n",
       "    }\n",
       "</style>\n",
       "<table border=\"1\" class=\"dataframe\">\n",
       "  <thead>\n",
       "    <tr style=\"text-align: right;\">\n",
       "      <th></th>\n",
       "      <th>sexo</th>\n",
       "      <th>idade</th>\n",
       "      <th>hipertensao</th>\n",
       "      <th>doenca_coracao</th>\n",
       "      <th>tipo_trabalho</th>\n",
       "      <th>tipo_residencia</th>\n",
       "      <th>media_nivel_glicose</th>\n",
       "      <th>imc</th>\n",
       "      <th>status_tabagismo</th>\n",
       "      <th>avc</th>\n",
       "    </tr>\n",
       "  </thead>\n",
       "  <tbody>\n",
       "    <tr>\n",
       "      <th>0</th>\n",
       "      <td>Masculino</td>\n",
       "      <td>3.0</td>\n",
       "      <td>0</td>\n",
       "      <td>0</td>\n",
       "      <td>crianca</td>\n",
       "      <td>Rural</td>\n",
       "      <td>95.12</td>\n",
       "      <td>18.0</td>\n",
       "      <td>desconhecido</td>\n",
       "      <td>0</td>\n",
       "    </tr>\n",
       "    <tr>\n",
       "      <th>1</th>\n",
       "      <td>Masculino</td>\n",
       "      <td>58.0</td>\n",
       "      <td>1</td>\n",
       "      <td>0</td>\n",
       "      <td>Privado</td>\n",
       "      <td>Urbana</td>\n",
       "      <td>87.96</td>\n",
       "      <td>39.2</td>\n",
       "      <td>nunca fumou</td>\n",
       "      <td>0</td>\n",
       "    </tr>\n",
       "    <tr>\n",
       "      <th>2</th>\n",
       "      <td>Feminino</td>\n",
       "      <td>8.0</td>\n",
       "      <td>0</td>\n",
       "      <td>0</td>\n",
       "      <td>Privado</td>\n",
       "      <td>Urbana</td>\n",
       "      <td>110.89</td>\n",
       "      <td>17.6</td>\n",
       "      <td>desconhecido</td>\n",
       "      <td>0</td>\n",
       "    </tr>\n",
       "    <tr>\n",
       "      <th>3</th>\n",
       "      <td>Feminino</td>\n",
       "      <td>70.0</td>\n",
       "      <td>0</td>\n",
       "      <td>0</td>\n",
       "      <td>Privado</td>\n",
       "      <td>Rural</td>\n",
       "      <td>69.04</td>\n",
       "      <td>35.9</td>\n",
       "      <td>fuma eventualmente</td>\n",
       "      <td>0</td>\n",
       "    </tr>\n",
       "    <tr>\n",
       "      <th>4</th>\n",
       "      <td>Masculino</td>\n",
       "      <td>14.0</td>\n",
       "      <td>0</td>\n",
       "      <td>0</td>\n",
       "      <td>Nunca_trabalhou</td>\n",
       "      <td>Rural</td>\n",
       "      <td>161.28</td>\n",
       "      <td>19.1</td>\n",
       "      <td>desconhecido</td>\n",
       "      <td>0</td>\n",
       "    </tr>\n",
       "    <tr>\n",
       "      <th>6</th>\n",
       "      <td>Feminino</td>\n",
       "      <td>52.0</td>\n",
       "      <td>0</td>\n",
       "      <td>0</td>\n",
       "      <td>Privado</td>\n",
       "      <td>Urbana</td>\n",
       "      <td>77.59</td>\n",
       "      <td>17.7</td>\n",
       "      <td>fuma eventualmente</td>\n",
       "      <td>0</td>\n",
       "    </tr>\n",
       "    <tr>\n",
       "      <th>7</th>\n",
       "      <td>Feminino</td>\n",
       "      <td>75.0</td>\n",
       "      <td>0</td>\n",
       "      <td>1</td>\n",
       "      <td>Autonomo</td>\n",
       "      <td>Rural</td>\n",
       "      <td>243.53</td>\n",
       "      <td>27.0</td>\n",
       "      <td>nunca fumou</td>\n",
       "      <td>0</td>\n",
       "    </tr>\n",
       "    <tr>\n",
       "      <th>8</th>\n",
       "      <td>Feminino</td>\n",
       "      <td>32.0</td>\n",
       "      <td>0</td>\n",
       "      <td>0</td>\n",
       "      <td>Privado</td>\n",
       "      <td>Rural</td>\n",
       "      <td>77.67</td>\n",
       "      <td>32.3</td>\n",
       "      <td>fuma</td>\n",
       "      <td>0</td>\n",
       "    </tr>\n",
       "    <tr>\n",
       "      <th>10</th>\n",
       "      <td>Feminino</td>\n",
       "      <td>79.0</td>\n",
       "      <td>0</td>\n",
       "      <td>0</td>\n",
       "      <td>Servidor_Publico</td>\n",
       "      <td>Urbana</td>\n",
       "      <td>77.08</td>\n",
       "      <td>35.0</td>\n",
       "      <td>desconhecido</td>\n",
       "      <td>0</td>\n",
       "    </tr>\n",
       "    <tr>\n",
       "      <th>11</th>\n",
       "      <td>Masculino</td>\n",
       "      <td>79.0</td>\n",
       "      <td>0</td>\n",
       "      <td>1</td>\n",
       "      <td>Privado</td>\n",
       "      <td>Urbana</td>\n",
       "      <td>57.08</td>\n",
       "      <td>22.0</td>\n",
       "      <td>fuma eventualmente</td>\n",
       "      <td>0</td>\n",
       "    </tr>\n",
       "  </tbody>\n",
       "</table>\n",
       "</div>"
      ],
      "text/plain": [
       "         sexo  idade hipertensao doenca_coracao     tipo_trabalho  \\\n",
       "0   Masculino    3.0           0              0           crianca   \n",
       "1   Masculino   58.0           1              0           Privado   \n",
       "2    Feminino    8.0           0              0           Privado   \n",
       "3    Feminino   70.0           0              0           Privado   \n",
       "4   Masculino   14.0           0              0   Nunca_trabalhou   \n",
       "6    Feminino   52.0           0              0           Privado   \n",
       "7    Feminino   75.0           0              1          Autonomo   \n",
       "8    Feminino   32.0           0              0           Privado   \n",
       "10   Feminino   79.0           0              0  Servidor_Publico   \n",
       "11  Masculino   79.0           0              1           Privado   \n",
       "\n",
       "   tipo_residencia  media_nivel_glicose   imc    status_tabagismo  avc  \n",
       "0            Rural                95.12  18.0        desconhecido    0  \n",
       "1           Urbana                87.96  39.2         nunca fumou    0  \n",
       "2           Urbana               110.89  17.6        desconhecido    0  \n",
       "3            Rural                69.04  35.9  fuma eventualmente    0  \n",
       "4            Rural               161.28  19.1        desconhecido    0  \n",
       "6           Urbana                77.59  17.7  fuma eventualmente    0  \n",
       "7            Rural               243.53  27.0         nunca fumou    0  \n",
       "8            Rural                77.67  32.3                fuma    0  \n",
       "10          Urbana                77.08  35.0        desconhecido    0  \n",
       "11          Urbana                57.08  22.0  fuma eventualmente    0  "
      ]
     },
     "execution_count": 24,
     "metadata": {},
     "output_type": "execute_result"
    }
   ],
   "source": [
    "dataset.head(10)"
   ]
  },
  {
   "cell_type": "code",
   "execution_count": 25,
   "id": "e76dd164",
   "metadata": {},
   "outputs": [],
   "source": [
    "dataset['tipo_residencia'] = np.where(dataset['tipo_residencia'] == 'Urbana', 1, 0)"
   ]
  },
  {
   "cell_type": "code",
   "execution_count": 26,
   "id": "1128db76",
   "metadata": {},
   "outputs": [],
   "source": [
    "dataset = pd.get_dummies(dataset, \n",
    "                        columns=['sexo','tipo_trabalho', 'status_tabagismo'],\n",
    "                        prefix=['sexo', 'trabalho', 'tabagismo'])"
   ]
  },
  {
   "cell_type": "code",
   "execution_count": 27,
   "id": "a08071c2",
   "metadata": {},
   "outputs": [
    {
     "data": {
      "text/html": [
       "<div>\n",
       "<style scoped>\n",
       "    .dataframe tbody tr th:only-of-type {\n",
       "        vertical-align: middle;\n",
       "    }\n",
       "\n",
       "    .dataframe tbody tr th {\n",
       "        vertical-align: top;\n",
       "    }\n",
       "\n",
       "    .dataframe thead th {\n",
       "        text-align: right;\n",
       "    }\n",
       "</style>\n",
       "<table border=\"1\" class=\"dataframe\">\n",
       "  <thead>\n",
       "    <tr style=\"text-align: right;\">\n",
       "      <th></th>\n",
       "      <th>idade</th>\n",
       "      <th>hipertensao</th>\n",
       "      <th>doenca_coracao</th>\n",
       "      <th>tipo_residencia</th>\n",
       "      <th>media_nivel_glicose</th>\n",
       "      <th>imc</th>\n",
       "      <th>avc</th>\n",
       "      <th>sexo_Feminino</th>\n",
       "      <th>sexo_Masculino</th>\n",
       "      <th>sexo_Outro</th>\n",
       "      <th>trabalho_Autonomo</th>\n",
       "      <th>trabalho_Nunca_trabalhou</th>\n",
       "      <th>trabalho_Privado</th>\n",
       "      <th>trabalho_Servidor_Publico</th>\n",
       "      <th>trabalho_crianca</th>\n",
       "      <th>tabagismo_desconhecido</th>\n",
       "      <th>tabagismo_fuma</th>\n",
       "      <th>tabagismo_fuma eventualmente</th>\n",
       "      <th>tabagismo_nunca fumou</th>\n",
       "    </tr>\n",
       "  </thead>\n",
       "  <tbody>\n",
       "    <tr>\n",
       "      <th>0</th>\n",
       "      <td>3.0</td>\n",
       "      <td>0</td>\n",
       "      <td>0</td>\n",
       "      <td>0</td>\n",
       "      <td>95.12</td>\n",
       "      <td>18.0</td>\n",
       "      <td>0</td>\n",
       "      <td>0</td>\n",
       "      <td>1</td>\n",
       "      <td>0</td>\n",
       "      <td>0</td>\n",
       "      <td>0</td>\n",
       "      <td>0</td>\n",
       "      <td>0</td>\n",
       "      <td>1</td>\n",
       "      <td>1</td>\n",
       "      <td>0</td>\n",
       "      <td>0</td>\n",
       "      <td>0</td>\n",
       "    </tr>\n",
       "    <tr>\n",
       "      <th>1</th>\n",
       "      <td>58.0</td>\n",
       "      <td>1</td>\n",
       "      <td>0</td>\n",
       "      <td>1</td>\n",
       "      <td>87.96</td>\n",
       "      <td>39.2</td>\n",
       "      <td>0</td>\n",
       "      <td>0</td>\n",
       "      <td>1</td>\n",
       "      <td>0</td>\n",
       "      <td>0</td>\n",
       "      <td>0</td>\n",
       "      <td>1</td>\n",
       "      <td>0</td>\n",
       "      <td>0</td>\n",
       "      <td>0</td>\n",
       "      <td>0</td>\n",
       "      <td>0</td>\n",
       "      <td>1</td>\n",
       "    </tr>\n",
       "    <tr>\n",
       "      <th>2</th>\n",
       "      <td>8.0</td>\n",
       "      <td>0</td>\n",
       "      <td>0</td>\n",
       "      <td>1</td>\n",
       "      <td>110.89</td>\n",
       "      <td>17.6</td>\n",
       "      <td>0</td>\n",
       "      <td>1</td>\n",
       "      <td>0</td>\n",
       "      <td>0</td>\n",
       "      <td>0</td>\n",
       "      <td>0</td>\n",
       "      <td>1</td>\n",
       "      <td>0</td>\n",
       "      <td>0</td>\n",
       "      <td>1</td>\n",
       "      <td>0</td>\n",
       "      <td>0</td>\n",
       "      <td>0</td>\n",
       "    </tr>\n",
       "    <tr>\n",
       "      <th>3</th>\n",
       "      <td>70.0</td>\n",
       "      <td>0</td>\n",
       "      <td>0</td>\n",
       "      <td>0</td>\n",
       "      <td>69.04</td>\n",
       "      <td>35.9</td>\n",
       "      <td>0</td>\n",
       "      <td>1</td>\n",
       "      <td>0</td>\n",
       "      <td>0</td>\n",
       "      <td>0</td>\n",
       "      <td>0</td>\n",
       "      <td>1</td>\n",
       "      <td>0</td>\n",
       "      <td>0</td>\n",
       "      <td>0</td>\n",
       "      <td>0</td>\n",
       "      <td>1</td>\n",
       "      <td>0</td>\n",
       "    </tr>\n",
       "    <tr>\n",
       "      <th>4</th>\n",
       "      <td>14.0</td>\n",
       "      <td>0</td>\n",
       "      <td>0</td>\n",
       "      <td>0</td>\n",
       "      <td>161.28</td>\n",
       "      <td>19.1</td>\n",
       "      <td>0</td>\n",
       "      <td>0</td>\n",
       "      <td>1</td>\n",
       "      <td>0</td>\n",
       "      <td>0</td>\n",
       "      <td>1</td>\n",
       "      <td>0</td>\n",
       "      <td>0</td>\n",
       "      <td>0</td>\n",
       "      <td>1</td>\n",
       "      <td>0</td>\n",
       "      <td>0</td>\n",
       "      <td>0</td>\n",
       "    </tr>\n",
       "    <tr>\n",
       "      <th>6</th>\n",
       "      <td>52.0</td>\n",
       "      <td>0</td>\n",
       "      <td>0</td>\n",
       "      <td>1</td>\n",
       "      <td>77.59</td>\n",
       "      <td>17.7</td>\n",
       "      <td>0</td>\n",
       "      <td>1</td>\n",
       "      <td>0</td>\n",
       "      <td>0</td>\n",
       "      <td>0</td>\n",
       "      <td>0</td>\n",
       "      <td>1</td>\n",
       "      <td>0</td>\n",
       "      <td>0</td>\n",
       "      <td>0</td>\n",
       "      <td>0</td>\n",
       "      <td>1</td>\n",
       "      <td>0</td>\n",
       "    </tr>\n",
       "    <tr>\n",
       "      <th>7</th>\n",
       "      <td>75.0</td>\n",
       "      <td>0</td>\n",
       "      <td>1</td>\n",
       "      <td>0</td>\n",
       "      <td>243.53</td>\n",
       "      <td>27.0</td>\n",
       "      <td>0</td>\n",
       "      <td>1</td>\n",
       "      <td>0</td>\n",
       "      <td>0</td>\n",
       "      <td>1</td>\n",
       "      <td>0</td>\n",
       "      <td>0</td>\n",
       "      <td>0</td>\n",
       "      <td>0</td>\n",
       "      <td>0</td>\n",
       "      <td>0</td>\n",
       "      <td>0</td>\n",
       "      <td>1</td>\n",
       "    </tr>\n",
       "    <tr>\n",
       "      <th>8</th>\n",
       "      <td>32.0</td>\n",
       "      <td>0</td>\n",
       "      <td>0</td>\n",
       "      <td>0</td>\n",
       "      <td>77.67</td>\n",
       "      <td>32.3</td>\n",
       "      <td>0</td>\n",
       "      <td>1</td>\n",
       "      <td>0</td>\n",
       "      <td>0</td>\n",
       "      <td>0</td>\n",
       "      <td>0</td>\n",
       "      <td>1</td>\n",
       "      <td>0</td>\n",
       "      <td>0</td>\n",
       "      <td>0</td>\n",
       "      <td>1</td>\n",
       "      <td>0</td>\n",
       "      <td>0</td>\n",
       "    </tr>\n",
       "    <tr>\n",
       "      <th>10</th>\n",
       "      <td>79.0</td>\n",
       "      <td>0</td>\n",
       "      <td>0</td>\n",
       "      <td>1</td>\n",
       "      <td>77.08</td>\n",
       "      <td>35.0</td>\n",
       "      <td>0</td>\n",
       "      <td>1</td>\n",
       "      <td>0</td>\n",
       "      <td>0</td>\n",
       "      <td>0</td>\n",
       "      <td>0</td>\n",
       "      <td>0</td>\n",
       "      <td>1</td>\n",
       "      <td>0</td>\n",
       "      <td>1</td>\n",
       "      <td>0</td>\n",
       "      <td>0</td>\n",
       "      <td>0</td>\n",
       "    </tr>\n",
       "    <tr>\n",
       "      <th>11</th>\n",
       "      <td>79.0</td>\n",
       "      <td>0</td>\n",
       "      <td>1</td>\n",
       "      <td>1</td>\n",
       "      <td>57.08</td>\n",
       "      <td>22.0</td>\n",
       "      <td>0</td>\n",
       "      <td>0</td>\n",
       "      <td>1</td>\n",
       "      <td>0</td>\n",
       "      <td>0</td>\n",
       "      <td>0</td>\n",
       "      <td>1</td>\n",
       "      <td>0</td>\n",
       "      <td>0</td>\n",
       "      <td>0</td>\n",
       "      <td>0</td>\n",
       "      <td>1</td>\n",
       "      <td>0</td>\n",
       "    </tr>\n",
       "  </tbody>\n",
       "</table>\n",
       "</div>"
      ],
      "text/plain": [
       "    idade hipertensao doenca_coracao  tipo_residencia  media_nivel_glicose  \\\n",
       "0     3.0           0              0                0                95.12   \n",
       "1    58.0           1              0                1                87.96   \n",
       "2     8.0           0              0                1               110.89   \n",
       "3    70.0           0              0                0                69.04   \n",
       "4    14.0           0              0                0               161.28   \n",
       "6    52.0           0              0                1                77.59   \n",
       "7    75.0           0              1                0               243.53   \n",
       "8    32.0           0              0                0                77.67   \n",
       "10   79.0           0              0                1                77.08   \n",
       "11   79.0           0              1                1                57.08   \n",
       "\n",
       "     imc  avc  sexo_Feminino  sexo_Masculino  sexo_Outro  trabalho_Autonomo  \\\n",
       "0   18.0    0              0               1           0                  0   \n",
       "1   39.2    0              0               1           0                  0   \n",
       "2   17.6    0              1               0           0                  0   \n",
       "3   35.9    0              1               0           0                  0   \n",
       "4   19.1    0              0               1           0                  0   \n",
       "6   17.7    0              1               0           0                  0   \n",
       "7   27.0    0              1               0           0                  1   \n",
       "8   32.3    0              1               0           0                  0   \n",
       "10  35.0    0              1               0           0                  0   \n",
       "11  22.0    0              0               1           0                  0   \n",
       "\n",
       "    trabalho_Nunca_trabalhou  trabalho_Privado  trabalho_Servidor_Publico  \\\n",
       "0                          0                 0                          0   \n",
       "1                          0                 1                          0   \n",
       "2                          0                 1                          0   \n",
       "3                          0                 1                          0   \n",
       "4                          1                 0                          0   \n",
       "6                          0                 1                          0   \n",
       "7                          0                 0                          0   \n",
       "8                          0                 1                          0   \n",
       "10                         0                 0                          1   \n",
       "11                         0                 1                          0   \n",
       "\n",
       "    trabalho_crianca  tabagismo_desconhecido  tabagismo_fuma  \\\n",
       "0                  1                       1               0   \n",
       "1                  0                       0               0   \n",
       "2                  0                       1               0   \n",
       "3                  0                       0               0   \n",
       "4                  0                       1               0   \n",
       "6                  0                       0               0   \n",
       "7                  0                       0               0   \n",
       "8                  0                       0               1   \n",
       "10                 0                       1               0   \n",
       "11                 0                       0               0   \n",
       "\n",
       "    tabagismo_fuma eventualmente  tabagismo_nunca fumou  \n",
       "0                              0                      0  \n",
       "1                              0                      1  \n",
       "2                              0                      0  \n",
       "3                              1                      0  \n",
       "4                              0                      0  \n",
       "6                              1                      0  \n",
       "7                              0                      1  \n",
       "8                              0                      0  \n",
       "10                             0                      0  \n",
       "11                             1                      0  "
      ]
     },
     "execution_count": 27,
     "metadata": {},
     "output_type": "execute_result"
    }
   ],
   "source": [
    "dataset.head(10)"
   ]
  },
  {
   "cell_type": "markdown",
   "id": "5cffc771",
   "metadata": {},
   "source": [
    "# Fim"
   ]
  }
 ],
 "metadata": {
  "kernelspec": {
   "display_name": "Python 3",
   "language": "python",
   "name": "python3"
  },
  "language_info": {
   "codemirror_mode": {
    "name": "ipython",
    "version": 3
   },
   "file_extension": ".py",
   "mimetype": "text/x-python",
   "name": "python",
   "nbconvert_exporter": "python",
   "pygments_lexer": "ipython3",
   "version": "3.8.3"
  }
 },
 "nbformat": 4,
 "nbformat_minor": 5
}
